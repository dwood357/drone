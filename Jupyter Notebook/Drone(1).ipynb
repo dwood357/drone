{
 "cells": [
  {
   "cell_type": "code",
   "execution_count": 79,
   "metadata": {},
   "outputs": [
    {
     "data": {
      "text/html": [
       "<style>.container { width:95% !important; }</style>"
      ],
      "text/plain": [
       "<IPython.core.display.HTML object>"
      ]
     },
     "metadata": {},
     "output_type": "display_data"
    }
   ],
   "source": [
    "from sympy import *\n",
    "from sympy import sin, pde_separate\n",
    "from sympy.physics.vector import dynamicsymbols\n",
    "from sympy.physics.vector.printing import vlatex, vpprint\n",
    "\n",
    "# import numpy as np\n",
    "import matplotlib.pyplot as plt\n",
    "init_printing(use_latex='mathjax',use_unicode=True)\n",
    "\n",
    "from IPython.core.display import display, HTML\n",
    "display(HTML(\"<style>.container { width:95% !important; }</style>\"))"
   ]
  },
  {
   "cell_type": "code",
   "execution_count": 38,
   "metadata": {},
   "outputs": [],
   "source": [
    "q1, q2, q3, q4, q5, q6 = dynamicsymbols('q1 q2 q3 q4 q5 q6')\n",
    "dq1, dq2, dq3, dq4, dq5, dq6 = symbols('dq1 dq2 dq3 dq4 dq5 dq6')\n",
    "ddq1, ddq2, ddq3, ddq4, ddq5, ddq6 = symbols('ddq1 ddq2 ddq3 ddq4 ddq5 ddq6')\n",
    "Q1, Q2, Q3, Q4, Q5, Q6 = dynamicsymbols('Q1 Q2 Q3 Q4 Q5 Q6')\n",
    "m, Ixx, Iyy, Izz, g = symbols('m Ixx Iyy Izz g ', constant = True)\n",
    "\n",
    "q_3, q_5, q_6 = symbols('q_3 q_5 q_6')"
   ]
  },
  {
   "cell_type": "code",
   "execution_count": 3,
   "metadata": {},
   "outputs": [],
   "source": [
    "q = Matrix([q1, q2, q3, q4, q5, q6])\n",
    "dq = diff(q, Symbol('t'))\n",
    "ddq = diff(dq, Symbol('t'))\n",
    "# dq = Matrix([dq1, dq2, dq3, dq4, dq5, dq6])\n",
    "# ddq"
   ]
  },
  {
   "cell_type": "markdown",
   "metadata": {},
   "source": [
    "$\n",
    "T(q)=\\frac{1}{2}\\dot{q}^{T}M(q)*\\dot{q}\n",
    "$\n",
    "\n",
    "where M(q) is defined as:\n",
    "\n",
    "$\n",
    "M(q)=J_{v}(q)^{T}m_{rr}J_{v}(q)+J_{w}(q)^{T}m_{\\theta\\theta}J_{w}(q)\n",
    "$"
   ]
  },
  {
   "cell_type": "code",
   "execution_count": 4,
   "metadata": {
    "scrolled": false
   },
   "outputs": [
    {
     "data": {
      "text/latex": [
       "$$0.5 Ixx \\left(\\frac{d}{d t} \\operatorname{q_{6}}{\\left (t \\right )}\\right)^{2} + g m \\operatorname{q_{3}}{\\left (t \\right )} + 0.5 m \\left(\\frac{d}{d t} \\operatorname{q_{1}}{\\left (t \\right )}\\right)^{2} + 0.5 m \\left(\\frac{d}{d t} \\operatorname{q_{2}}{\\left (t \\right )}\\right)^{2} + 0.5 m \\left(\\frac{d}{d t} \\operatorname{q_{3}}{\\left (t \\right )}\\right)^{2} + \\left(0.5 Iyy \\cos^{2}{\\left (\\operatorname{q_{6}}{\\left (t \\right )} \\right )} - 0.5 Izz \\cos^{2}{\\left (\\operatorname{q_{6}}{\\left (t \\right )} \\right )} + 0.5 Izz\\right) \\left(\\frac{d}{d t} \\operatorname{q_{5}}{\\left (t \\right )}\\right)^{2} + \\left(- 1.0 Ixx \\sin{\\left (\\operatorname{q_{5}}{\\left (t \\right )} \\right )} \\frac{d}{d t} \\operatorname{q_{6}}{\\left (t \\right )} + 0.25 Iyy \\left(- \\sin{\\left (\\operatorname{q_{5}}{\\left (t \\right )} - 2 \\operatorname{q_{6}}{\\left (t \\right )} \\right )} + \\sin{\\left (\\operatorname{q_{5}}{\\left (t \\right )} + 2 \\operatorname{q_{6}}{\\left (t \\right )} \\right )}\\right) \\frac{d}{d t} \\operatorname{q_{5}}{\\left (t \\right )} + 0.25 Izz \\left(- \\sin{\\left (\\operatorname{q_{5}}{\\left (t \\right )} - 2 \\operatorname{q_{6}}{\\left (t \\right )} \\right )} + \\sin{\\left (\\operatorname{q_{5}}{\\left (t \\right )} + 2 \\operatorname{q_{6}}{\\left (t \\right )} \\right )}\\right) \\frac{d}{d t} \\operatorname{q_{5}}{\\left (t \\right )}\\right) \\frac{d}{d t} \\operatorname{q_{4}}{\\left (t \\right )} + \\left(- 0.5 Ixx \\cos^{2}{\\left (\\operatorname{q_{5}}{\\left (t \\right )} \\right )} + 0.5 Ixx - 0.5 Iyy \\cos^{2}{\\left (\\operatorname{q_{5}}{\\left (t \\right )} \\right )} \\cos^{2}{\\left (\\operatorname{q_{6}}{\\left (t \\right )} \\right )} + 0.5 Iyy \\cos^{2}{\\left (\\operatorname{q_{5}}{\\left (t \\right )} \\right )} + 0.5 Izz \\cos^{2}{\\left (\\operatorname{q_{5}}{\\left (t \\right )} \\right )} \\cos^{2}{\\left (\\operatorname{q_{6}}{\\left (t \\right )} \\right )}\\right) \\left(\\frac{d}{d t} \\operatorname{q_{4}}{\\left (t \\right )}\\right)^{2}$$"
      ],
      "text/plain": [
       "                   2                                2                    2    \n",
       "        ⎛d        ⎞                      ⎛d        ⎞          ⎛d        ⎞     \n",
       "0.5⋅Ixx⋅⎜──(q₆(t))⎟  + g⋅m⋅q₃(t) + 0.5⋅m⋅⎜──(q₁(t))⎟  + 0.5⋅m⋅⎜──(q₂(t))⎟  + 0\n",
       "        ⎝dt       ⎠                      ⎝dt       ⎠          ⎝dt       ⎠     \n",
       "\n",
       "                2                                                             \n",
       "     ⎛d        ⎞    ⎛           2                     2                 ⎞ ⎛d  \n",
       ".5⋅m⋅⎜──(q₃(t))⎟  + ⎝0.5⋅Iyy⋅cos (q₆(t)) - 0.5⋅Izz⋅cos (q₆(t)) + 0.5⋅Izz⎠⋅⎜──(\n",
       "     ⎝dt       ⎠                                                          ⎝dt \n",
       "\n",
       "       2                                                                      \n",
       "      ⎞    ⎛                     d                                            \n",
       "q₅(t))⎟  + ⎜- 1.0⋅Ixx⋅sin(q₅(t))⋅──(q₆(t)) + 0.25⋅Iyy⋅(-sin(q₅(t) - 2⋅q₆(t)) +\n",
       "      ⎠    ⎝                     dt                                           \n",
       "\n",
       "                                                                              \n",
       "                       d                                                      \n",
       " sin(q₅(t) + 2⋅q₆(t)))⋅──(q₅(t)) + 0.25⋅Izz⋅(-sin(q₅(t) - 2⋅q₆(t)) + sin(q₅(t)\n",
       "                       dt                                                     \n",
       "\n",
       "                                                                              \n",
       "             d        ⎞ d           ⎛             2                           \n",
       " + 2⋅q₆(t)))⋅──(q₅(t))⎟⋅──(q₄(t)) + ⎝- 0.5⋅Ixx⋅cos (q₅(t)) + 0.5⋅Ixx - 0.5⋅Iyy\n",
       "             dt       ⎠ dt                                                    \n",
       "\n",
       "                                                                              \n",
       "    2           2                     2                     2           2     \n",
       "⋅cos (q₅(t))⋅cos (q₆(t)) + 0.5⋅Iyy⋅cos (q₅(t)) + 0.5⋅Izz⋅cos (q₅(t))⋅cos (q₆(t\n",
       "                                                                              \n",
       "\n",
       "               2\n",
       "  ⎞ ⎛d        ⎞ \n",
       "))⎠⋅⎜──(q₄(t))⎟ \n",
       "    ⎝dt       ⎠ "
      ]
     },
     "execution_count": 4,
     "metadata": {},
     "output_type": "execute_result"
    }
   ],
   "source": [
    "J_w = Matrix([[0,0,0,-sin(q[4]), 0, 1],\n",
    "             [0,0,0, cos(q[4])*sin(q[5]), cos(q[5]), 0],\n",
    "             [0,0,0, cos(q[4])*cos(q[5]), sin(q[5]), 0]])\n",
    "J_v = Matrix([[1,0,0,0,0,0],\n",
    "             [0,1,0,0,0,0],\n",
    "             [0,0,1,0,0,0]])\n",
    "m_rr = eye(3)*m\n",
    "m_tt = Matrix([[Ixx, 0, 0],\n",
    "              [0, Iyy, 0],\n",
    "              [0, 0, Izz]])\n",
    "M_q = J_v.T * m_rr * J_v + J_w.T * m_tt * J_w\n",
    "M_q = trigsimp(M_q)\n",
    "\n",
    "# T = trigsimp(trigsimp(expand(0.5*dq.T*M_q*dq)))\n",
    "# T = trigsimp(expand(0.5*dq.T*M_q*dq))\n",
    "T = trigsimp(simplify(trigsimp(0.5*dq.T*M_q*dq)))\n",
    "\n",
    "V = -m*g*q[2]\n",
    "\n",
    "L = T[0]-V\n",
    "L = collect(L, [dq[3]**2, dq[4]**2])\n",
    "\n",
    "L = L.trigsimp(method = 'fu')\n",
    "L"
   ]
  },
  {
   "cell_type": "markdown",
   "metadata": {},
   "source": [
    "The L above is with no trig simplification, actually it is expanded.\n",
    "\n",
    "In the next cell you are looking at L but simplified with trig by hand."
   ]
  },
  {
   "cell_type": "code",
   "execution_count": 5,
   "metadata": {},
   "outputs": [
    {
     "data": {
      "text/latex": [
       "$$- Ixx \\sin{\\left (\\operatorname{q_{5}}{\\left (t \\right )} \\right )} \\frac{d}{d t} \\operatorname{q_{4}}{\\left (t \\right )} \\frac{d}{d t} \\operatorname{q_{6}}{\\left (t \\right )} + 0.5 Ixx \\left(\\frac{d}{d t} \\operatorname{q_{6}}{\\left (t \\right )}\\right)^{2} + g m \\operatorname{q_{3}}{\\left (t \\right )} + 0.5 m \\left(\\frac{d}{d t} \\operatorname{q_{1}}{\\left (t \\right )}\\right)^{2} + 0.5 m \\left(\\frac{d}{d t} \\operatorname{q_{2}}{\\left (t \\right )}\\right)^{2} + 0.5 m \\left(\\frac{d}{d t} \\operatorname{q_{3}}{\\left (t \\right )}\\right)^{2} + \\left(Iyy + Izz\\right) \\sin{\\left (\\operatorname{q_{6}}{\\left (t \\right )} \\right )} \\cos{\\left (\\operatorname{q_{5}}{\\left (t \\right )} \\right )} \\cos{\\left (\\operatorname{q_{6}}{\\left (t \\right )} \\right )} \\frac{d}{d t} \\operatorname{q_{4}}{\\left (t \\right )} \\frac{d}{d t} \\operatorname{q_{5}}{\\left (t \\right )} + \\left(0.5 Izz + 0.5 \\left(Iyy - Izz\\right) \\cos^{2}{\\left (\\operatorname{q_{6}}{\\left (t \\right )} \\right )}\\right) \\left(\\frac{d}{d t} \\operatorname{q_{5}}{\\left (t \\right )}\\right)^{2} + \\left(0.5 Ixx \\sin^{2}{\\left (\\operatorname{q_{5}}{\\left (t \\right )} \\right )} + 0.5 Iyy \\cos^{2}{\\left (\\operatorname{q_{6}}{\\left (t \\right )} \\right )} - \\left(0.5 Iyy - 0.5 Izz\\right) \\cos^{2}{\\left (\\operatorname{q_{5}}{\\left (t \\right )} \\right )} \\cos^{2}{\\left (\\operatorname{q_{6}}{\\left (t \\right )} \\right )}\\right) \\left(\\frac{d}{d t} \\operatorname{q_{4}}{\\left (t \\right )}\\right)^{2}$$"
      ],
      "text/plain": [
       "                                                          2                   \n",
       "                 d         d                   ⎛d        ⎞                    \n",
       "- Ixx⋅sin(q₅(t))⋅──(q₄(t))⋅──(q₆(t)) + 0.5⋅Ixx⋅⎜──(q₆(t))⎟  + g⋅m⋅q₃(t) + 0.5⋅\n",
       "                 dt        dt                  ⎝dt       ⎠                    \n",
       "\n",
       "             2                    2                    2                      \n",
       "  ⎛d        ⎞          ⎛d        ⎞          ⎛d        ⎞                       \n",
       "m⋅⎜──(q₁(t))⎟  + 0.5⋅m⋅⎜──(q₂(t))⎟  + 0.5⋅m⋅⎜──(q₃(t))⎟  + (Iyy + Izz)⋅sin(q₆(\n",
       "  ⎝dt       ⎠          ⎝dt       ⎠          ⎝dt       ⎠                       \n",
       "\n",
       "                                                                              \n",
       "                          d         d           ⎛                             \n",
       "t))⋅cos(q₅(t))⋅cos(q₆(t))⋅──(q₄(t))⋅──(q₅(t)) + ⎝0.5⋅Izz + 0.5⋅(Iyy - Izz)⋅cos\n",
       "                          dt        dt                                        \n",
       "\n",
       "                     2                                                        \n",
       "2       ⎞ ⎛d        ⎞    ⎛           2                     2                  \n",
       " (q₆(t))⎠⋅⎜──(q₅(t))⎟  + ⎝0.5⋅Ixx⋅sin (q₅(t)) + 0.5⋅Iyy⋅cos (q₆(t)) - (0.5⋅Iyy\n",
       "          ⎝dt       ⎠                                                         \n",
       "\n",
       "                                                2\n",
       "               2           2       ⎞ ⎛d        ⎞ \n",
       " - 0.5⋅Izz)⋅cos (q₅(t))⋅cos (q₆(t))⎠⋅⎜──(q₄(t))⎟ \n",
       "                                     ⎝dt       ⎠ "
      ]
     },
     "execution_count": 5,
     "metadata": {},
     "output_type": "execute_result"
    }
   ],
   "source": [
    "L = (0.5*m*dq[0]**2 + \n",
    "     0.5*m*dq[1]**2 + \n",
    "     0.5*m*dq[2]**2 + \n",
    "     (0.5*Ixx*sin(q[4])**2 + 0.5*Iyy*cos(q[5])**2 - 0.5*(Iyy-Izz)*(cos(q[4])**2)*cos(q[5])**2)*dq[3]**2 +\n",
    "     0.5*((Iyy - Izz)*cos(q[5])**2 + Izz)*dq[4]**2 + \n",
    "     0.5*Ixx*dq[5]**2 +\n",
    "     (Iyy + Izz)*cos(q[4])*sin(q[5])*cos(q[5])*dq[3]*dq[4] - \n",
    "     Ixx*sin(q[4])*dq[3]*dq[5] +\n",
    "     m*g*q[2]\n",
    "    )\n",
    "\n",
    "L"
   ]
  },
  {
   "cell_type": "markdown",
   "metadata": {},
   "source": [
    "Euler-Lagrange equations of motions from the following equation:\n",
    "\n",
    "$\n",
    "\\frac{d}{dt}(\\frac{\\partial\\mathcal{L}(q)}{\\partial\\dot{q_{j}}})-\\frac{\\partial\\mathcal{L}(q)}{\\partial q_{j}}=Q_{j}(q)\n",
    "$\n"
   ]
  },
  {
   "cell_type": "code",
   "execution_count": 73,
   "metadata": {},
   "outputs": [
    {
     "data": {
      "text/latex": [
       "$$- Ixx \\sin{\\left (\\operatorname{q_{5}}{\\left (t \\right )} \\right )} \\frac{d^{2}}{d t^{2}}  \\operatorname{q_{6}}{\\left (t \\right )} - Ixx \\cos{\\left (\\operatorname{q_{5}}{\\left (t \\right )} \\right )} \\frac{d}{d t} \\operatorname{q_{5}}{\\left (t \\right )} \\frac{d}{d t} \\operatorname{q_{6}}{\\left (t \\right )} - \\left(Iyy + Izz\\right) \\sin{\\left (\\operatorname{q_{5}}{\\left (t \\right )} \\right )} \\sin{\\left (\\operatorname{q_{6}}{\\left (t \\right )} \\right )} \\cos{\\left (\\operatorname{q_{6}}{\\left (t \\right )} \\right )} \\left(\\frac{d}{d t} \\operatorname{q_{5}}{\\left (t \\right )}\\right)^{2} - \\left(Iyy + Izz\\right) \\sin^{2}{\\left (\\operatorname{q_{6}}{\\left (t \\right )} \\right )} \\cos{\\left (\\operatorname{q_{5}}{\\left (t \\right )} \\right )} \\frac{d}{d t} \\operatorname{q_{5}}{\\left (t \\right )} \\frac{d}{d t} \\operatorname{q_{6}}{\\left (t \\right )} + \\left(Iyy + Izz\\right) \\sin{\\left (\\operatorname{q_{6}}{\\left (t \\right )} \\right )} \\cos{\\left (\\operatorname{q_{5}}{\\left (t \\right )} \\right )} \\cos{\\left (\\operatorname{q_{6}}{\\left (t \\right )} \\right )} \\frac{d^{2}}{d t^{2}}  \\operatorname{q_{5}}{\\left (t \\right )} + \\left(Iyy + Izz\\right) \\cos{\\left (\\operatorname{q_{5}}{\\left (t \\right )} \\right )} \\cos^{2}{\\left (\\operatorname{q_{6}}{\\left (t \\right )} \\right )} \\frac{d}{d t} \\operatorname{q_{5}}{\\left (t \\right )} \\frac{d}{d t} \\operatorname{q_{6}}{\\left (t \\right )} + 2 \\left(0.5 Ixx \\sin^{2}{\\left (\\operatorname{q_{5}}{\\left (t \\right )} \\right )} + 0.5 Iyy \\cos^{2}{\\left (\\operatorname{q_{6}}{\\left (t \\right )} \\right )} - \\left(0.5 Iyy - 0.5 Izz\\right) \\cos^{2}{\\left (\\operatorname{q_{5}}{\\left (t \\right )} \\right )} \\cos^{2}{\\left (\\operatorname{q_{6}}{\\left (t \\right )} \\right )}\\right) \\frac{d^{2}}{d t^{2}}  \\operatorname{q_{4}}{\\left (t \\right )} + 2 \\left(1.0 Ixx \\sin{\\left (\\operatorname{q_{5}}{\\left (t \\right )} \\right )} \\cos{\\left (\\operatorname{q_{5}}{\\left (t \\right )} \\right )} \\frac{d}{d t} \\operatorname{q_{5}}{\\left (t \\right )} - 1.0 Iyy \\sin{\\left (\\operatorname{q_{6}}{\\left (t \\right )} \\right )} \\cos{\\left (\\operatorname{q_{6}}{\\left (t \\right )} \\right )} \\frac{d}{d t} \\operatorname{q_{6}}{\\left (t \\right )} + 2 \\left(0.5 Iyy - 0.5 Izz\\right) \\sin{\\left (\\operatorname{q_{5}}{\\left (t \\right )} \\right )} \\cos{\\left (\\operatorname{q_{5}}{\\left (t \\right )} \\right )} \\cos^{2}{\\left (\\operatorname{q_{6}}{\\left (t \\right )} \\right )} \\frac{d}{d t} \\operatorname{q_{5}}{\\left (t \\right )} + 2 \\left(0.5 Iyy - 0.5 Izz\\right) \\sin{\\left (\\operatorname{q_{6}}{\\left (t \\right )} \\right )} \\cos^{2}{\\left (\\operatorname{q_{5}}{\\left (t \\right )} \\right )} \\cos{\\left (\\operatorname{q_{6}}{\\left (t \\right )} \\right )} \\frac{d}{d t} \\operatorname{q_{6}}{\\left (t \\right )}\\right) \\frac{d}{d t} \\operatorname{q_{4}}{\\left (t \\right )} - \\operatorname{Q_{4}}{\\left (t \\right )}$$"
      ],
      "text/plain": [
       "                   2                                                          \n",
       "                  d                          d         d                      \n",
       "- Ixx⋅sin(q₅(t))⋅───(q₆(t)) - Ixx⋅cos(q₅(t))⋅──(q₅(t))⋅──(q₆(t)) - (Iyy + Izz)\n",
       "                   2                         dt        dt                     \n",
       "                 dt                                                           \n",
       "\n",
       "                                             2                                \n",
       "                                  ⎛d        ⎞                   2             \n",
       "⋅sin(q₅(t))⋅sin(q₆(t))⋅cos(q₆(t))⋅⎜──(q₅(t))⎟  - (Iyy + Izz)⋅sin (q₆(t))⋅cos(q\n",
       "                                  ⎝dt       ⎠                                 \n",
       "                                                                              \n",
       "\n",
       "                                                                           2  \n",
       "      d         d                                                         d   \n",
       "₅(t))⋅──(q₅(t))⋅──(q₆(t)) + (Iyy + Izz)⋅sin(q₆(t))⋅cos(q₅(t))⋅cos(q₆(t))⋅───(q\n",
       "      dt        dt                                                         2  \n",
       "                                                                         dt   \n",
       "\n",
       "                                                                              \n",
       "                                  2        d         d             ⎛          \n",
       "₅(t)) + (Iyy + Izz)⋅cos(q₅(t))⋅cos (q₆(t))⋅──(q₅(t))⋅──(q₆(t)) + 2⋅⎝0.5⋅Ixx⋅si\n",
       "                                           dt        dt                       \n",
       "                                                                              \n",
       "\n",
       "                                                                              \n",
       " 2                     2                                 2           2       ⎞\n",
       "n (q₅(t)) + 0.5⋅Iyy⋅cos (q₆(t)) - (0.5⋅Iyy - 0.5⋅Izz)⋅cos (q₅(t))⋅cos (q₆(t))⎠\n",
       "                                                                              \n",
       "                                                                              \n",
       "\n",
       "   2                                                                          \n",
       "  d             ⎛                              d                              \n",
       "⋅───(q₄(t)) + 2⋅⎜1.0⋅Ixx⋅sin(q₅(t))⋅cos(q₅(t))⋅──(q₅(t)) - 1.0⋅Iyy⋅sin(q₆(t))⋅\n",
       "   2            ⎝                              dt                             \n",
       " dt                                                                           \n",
       "\n",
       "                                                                              \n",
       "           d                                                          2       \n",
       "cos(q₆(t))⋅──(q₆(t)) + 2⋅(0.5⋅Iyy - 0.5⋅Izz)⋅sin(q₅(t))⋅cos(q₅(t))⋅cos (q₆(t))\n",
       "           dt                                                                 \n",
       "                                                                              \n",
       "\n",
       "                                                                              \n",
       " d                                               2                   d        \n",
       "⋅──(q₅(t)) + 2⋅(0.5⋅Iyy - 0.5⋅Izz)⋅sin(q₆(t))⋅cos (q₅(t))⋅cos(q₆(t))⋅──(q₆(t))\n",
       " dt                                                                  dt       \n",
       "                                                                              \n",
       "\n",
       "                   \n",
       "⎞ d                \n",
       "⎟⋅──(q₄(t)) - Q₄(t)\n",
       "⎠ dt               \n",
       "                   "
      ]
     },
     "execution_count": 73,
     "metadata": {},
     "output_type": "execute_result"
    }
   ],
   "source": [
    "# d/dt(dL/d(dq)) - dL/dq = Q\n",
    "dl1 = diff(diff(L, dq[0]), Symbol('t'))\n",
    "dl2 = diff(diff(L, dq[1]), Symbol('t'))\n",
    "dl3 = diff(diff(L, dq[2]), Symbol('t'))\n",
    "dl4 = diff(diff(L, dq[3]), Symbol('t'))\n",
    "dl5 = diff(diff(L, dq[4]), Symbol('t'))\n",
    "dl6 = diff(diff(L, dq[5]), Symbol('t'))\n",
    "\n",
    "l1 = diff(L, q[0])\n",
    "l2 = diff(L, q[1])\n",
    "l3 = diff(L, q[2])\n",
    "l4 = diff(L, q[3])\n",
    "l5 = diff(L, q[4])\n",
    "l6 = diff(L, q[5])\n",
    "\n",
    "EL1 = dl1 - l1 - Q1\n",
    "EL2 = dl2 - l2 - Q2\n",
    "EL3 = dl3 - l3 - Q3\n",
    "EL4 = dl4 - l4 - Q4\n",
    "EL5 = dl5 - l5 - Q5\n",
    "EL6 = dl6 - l6 - Q6\n",
    "\n",
    "# Q = Matrix([Q1, Q2, Q3, Q4, Q5, Q6])\n",
    "# print(vlatex(EL4))\n",
    "    \n",
    "# EL1.coeff(ddq[0])\n",
    "\n",
    "EL6.coeff(ddq[5])\n",
    "\n",
    "eqs = (EL1, EL2, EL3, EL4, EL5, EL6)\n",
    "variables = (ddq[0], ddq[1], ddq[2], ddq[3], ddq[4], ddq[5])\n",
    "EL4"
   ]
  },
  {
   "cell_type": "code",
   "execution_count": 74,
   "metadata": {},
   "outputs": [
    {
     "data": {
      "text/latex": [
       "$$- Ixx \\sin{\\left (\\operatorname{q_{5}}{\\left (t \\right )} \\right )} \\frac{d^{2}}{d t^{2}}  \\operatorname{q_{4}}{\\left (t \\right )} + Ixx \\frac{d^{2}}{d t^{2}}  \\operatorname{q_{6}}{\\left (t \\right )} - \\left(Ixx + \\left(Iyy + Izz\\right) \\cos{\\left (2 \\operatorname{q_{6}}{\\left (t \\right )} \\right )}\\right) \\cos{\\left (\\operatorname{q_{5}}{\\left (t \\right )} \\right )} \\frac{d}{d t} \\operatorname{q_{4}}{\\left (t \\right )} \\frac{d}{d t} \\operatorname{q_{5}}{\\left (t \\right )} + \\left(Iyy - Izz\\right) \\sin{\\left (\\operatorname{q_{6}}{\\left (t \\right )} \\right )} \\cos{\\left (\\operatorname{q_{6}}{\\left (t \\right )} \\right )} \\left(\\frac{d}{d t} \\operatorname{q_{5}}{\\left (t \\right )}\\right)^{2} - \\left(Iyy + \\left(Iyy - Izz\\right) \\cos^{2}{\\left (\\operatorname{q_{5}}{\\left (t \\right )} \\right )}\\right) \\sin{\\left (\\operatorname{q_{6}}{\\left (t \\right )} \\right )} \\cos{\\left (\\operatorname{q_{6}}{\\left (t \\right )} \\right )} \\left(\\frac{d}{d t} \\operatorname{q_{4}}{\\left (t \\right )}\\right)^{2} - \\operatorname{Q_{6}}{\\left (t \\right )}$$"
      ],
      "text/plain": [
       "                   2                2                                         \n",
       "                  d                d                                          \n",
       "- Ixx⋅sin(q₅(t))⋅───(q₄(t)) + Ixx⋅───(q₆(t)) - (Ixx + (Iyy + Izz)⋅cos(2⋅q₆(t))\n",
       "                   2                2                                         \n",
       "                 dt               dt                                          \n",
       "\n",
       "                                                                              \n",
       "             d         d                                             ⎛d       \n",
       ")⋅cos(q₅(t))⋅──(q₄(t))⋅──(q₅(t)) + (Iyy - Izz)⋅sin(q₆(t))⋅cos(q₆(t))⋅⎜──(q₅(t)\n",
       "             dt        dt                                            ⎝dt      \n",
       "                                                                              \n",
       "\n",
       "  2                                                                    2      \n",
       " ⎞    ⎛                     2       ⎞                       ⎛d        ⎞       \n",
       ")⎟  - ⎝Iyy + (Iyy - Izz)⋅cos (q₅(t))⎠⋅sin(q₆(t))⋅cos(q₆(t))⋅⎜──(q₄(t))⎟  - Q₆(\n",
       " ⎠                                                          ⎝dt       ⎠       \n",
       "                                                                              \n",
       "\n",
       "  \n",
       "  \n",
       "t)\n",
       "  \n",
       "  "
      ]
     },
     "execution_count": 74,
     "metadata": {},
     "output_type": "execute_result"
    }
   ],
   "source": [
    "EL4 = (-(0.5*Iyy - 0.5*Izz)*(cos(q[4])**2)*(cos(q[5])**2)*ddq[3] +\n",
    "       (Iyy + Izz)*sin(q[5])*cos(q[4])*cos(q[5])*ddq[4] -\n",
    "       Ixx*sin(q[4])*ddq[5] +\n",
    "       2*sin(q[4])*cos(q[4])*(Ixx + (Iyy - Izz)*cos(q[5])**2)*dq[3]*dq[4] +\n",
    "       sin(q[5])*cos(q[5])*((Iyy-Izz)*cos(q[4])**2 - Ixx)*dq[3]*dq[5] -\n",
    "       Q4)\n",
    "\n",
    "EL5 = ((Iyy + Izz)*sin(q[5])*cos(q[4])*cos(q[5])*ddq[3] +\n",
    "       (Izz + (Iyy - Izz)*cos(q[5])**2)*ddq[4] +\n",
    "       sin(q[4])*cos(q[4])*(Ixx + (Iyy - Izz)*cos(q[5])**2)*dq[3]**2 -\n",
    "       2*(Iyy - Izz)*sin(q[5])*cos(q[5])*dq[4]*dq[5] +\n",
    "       cos(q[4])*(Ixx +(Iyy + Izz)*cos(2*q[5]))*dq[3]*dq[5] -\n",
    "       Q5)\n",
    "\n",
    "EL6 = (-Ixx*sin(q[4])*ddq[3] +\n",
    "       Ixx*ddq[5] -\n",
    "       sin(q[5])*cos(q[5])*((Iyy-Izz)*cos(q[4])**2 + Iyy)*dq[3]**2 +\n",
    "       (Iyy-Izz)*sin(q[5])*cos(q[5])*dq[4]**2 -\n",
    "       cos(q[4])*(Ixx + (Iyy + Izz)*cos(2*q[5]))*dq[3]*dq[4] -\n",
    "       Q6)\n",
    "\n",
    "# EL4 = (-(0.5*Iyy - 0.5*Izz)*(cos(q_5)**2)*(cos(q_6)**2)*ddq4 +\n",
    "#        (Iyy + Izz)*sin(q_6)*cos(q_5)*cos(q_6)*ddq5 -\n",
    "#        Ixx*sin(q_5)*ddq6 +\n",
    "#        2*sin(q_5)*cos(q_5)*(Ixx + (Iyy - Izz)*cos(q_6)**2)*dq4*dq5 +\n",
    "#        sin(q_6)*cos(q_6)*((Iyy-Izz)*cos(q_5)**2 - Ixx)*dq4*dq6 -\n",
    "#        Q4)\n",
    "\n",
    "\n",
    "# EL5 = ((Iyy + Izz)*sin(q_6)*cos(q_5)*cos(q_6)*ddq4 +\n",
    "#        (Izz + (Iyy - Izz)*cos(q_6)**2)*ddq5 +\n",
    "#        sin(q_5)*cos(q_5)*(Ixx + (Iyy - Izz)*cos(q_6)**2)*dq4**2 -\n",
    "#        2*(Iyy - Izz)*sin(q_6)*cos(q_6)*dq5*dq6 +\n",
    "#        cos(q_5)*(Ixx +(Iyy + Izz)*cos(2*q_6))*dq4*dq6 -\n",
    "#        Q5)\n",
    "\n",
    "\n",
    "\n",
    "# EL6 = (-Ixx*sin(q_5)*ddq4 +\n",
    "#        Ixx*ddq6 -\n",
    "#        sin(q_6)*cos(q_6)*((Iyy-Izz)*cos(q_5)**2 + Iyy)*dq4**2 +\n",
    "#        (Iyy-Izz)*sin(q_6)*cos(q_6)*dq5**2 -\n",
    "#        cos(q_5)*(Ixx + (Iyy + Izz)*cos(2*q_6))*dq4*dq5 -\n",
    "#        Q6)\n",
    "\n",
    "eqs = (EL1, EL2, EL3, EL4, EL5, EL6)\n",
    "variables = (ddq[0], ddq[1], ddq[2], ddq[3], ddq[4], ddq[5])\n",
    "EL6"
   ]
  },
  {
   "cell_type": "code",
   "execution_count": 75,
   "metadata": {},
   "outputs": [],
   "source": [
    "# eqs = (EL1, EL2, EL3, EL4, EL5, EL6)\n",
    "# variables = (ddq[0], ddq[1], ddq[2], ddq4, ddq5, ddq6)\n",
    "\n",
    "F = solve(eqs, variables)"
   ]
  },
  {
   "cell_type": "code",
   "execution_count": 83,
   "metadata": {},
   "outputs": [
    {
     "data": {
      "text/latex": [
       "$$g + \\frac{1}{m} \\operatorname{Q_{3}}{\\left (t \\right )}$$"
      ],
      "text/plain": [
       "    Q₃(t)\n",
       "g + ─────\n",
       "      m  "
      ]
     },
     "execution_count": 83,
     "metadata": {},
     "output_type": "execute_result"
    }
   ],
   "source": [
    "F1 = F[ddq[0]]\n",
    "F2 = F[ddq[1]]\n",
    "F3 = F[ddq[2]]\n",
    "# F4 = F[ddq4]\n",
    "# F5 = F[ddq5]\n",
    "# F6 = F[ddq6]\n",
    "\n",
    "F4 = F[ddq[3]]\n",
    "F5 = F[ddq[4]]\n",
    "F6 = F[ddq[5]]\n",
    "\n",
    "F3\n",
    "\n"
   ]
  },
  {
   "cell_type": "code",
   "execution_count": 87,
   "metadata": {},
   "outputs": [],
   "source": [
    "A = (sympify(F4, evaluate=False)).args"
   ]
  },
  {
   "cell_type": "code",
   "execution_count": 109,
   "metadata": {},
   "outputs": [
    {
     "data": {
      "text/latex": [
       "$$2.0 \\left(Iyy + Izz\\right) \\left(0.5 Ixx \\sin{\\left (2.0 \\operatorname{q_{5}}{\\left (t \\right )} \\right )} \\left(\\frac{d}{d t} \\operatorname{q_{4}}{\\left (t \\right )}\\right)^{2} + Ixx \\cos{\\left (\\operatorname{q_{5}}{\\left (t \\right )} \\right )} \\frac{d}{d t} \\operatorname{q_{4}}{\\left (t \\right )} \\frac{d}{d t} \\operatorname{q_{6}}{\\left (t \\right )} + Iyy \\sin{\\left (\\operatorname{q_{5}}{\\left (t \\right )} \\right )} \\cos{\\left (\\operatorname{q_{5}}{\\left (t \\right )} \\right )} \\cos^{2}{\\left (\\operatorname{q_{6}}{\\left (t \\right )} \\right )} \\left(\\frac{d}{d t} \\operatorname{q_{4}}{\\left (t \\right )}\\right)^{2} - Iyy \\sin{\\left (2.0 \\operatorname{q_{6}}{\\left (t \\right )} \\right )} \\frac{d}{d t} \\operatorname{q_{5}}{\\left (t \\right )} \\frac{d}{d t} \\operatorname{q_{6}}{\\left (t \\right )} + Iyy \\cos{\\left (\\operatorname{q_{5}}{\\left (t \\right )} \\right )} \\cos{\\left (2.0 \\operatorname{q_{6}}{\\left (t \\right )} \\right )} \\frac{d}{d t} \\operatorname{q_{4}}{\\left (t \\right )} \\frac{d}{d t} \\operatorname{q_{6}}{\\left (t \\right )} - Izz \\sin{\\left (\\operatorname{q_{5}}{\\left (t \\right )} \\right )} \\cos{\\left (\\operatorname{q_{5}}{\\left (t \\right )} \\right )} \\cos^{2}{\\left (\\operatorname{q_{6}}{\\left (t \\right )} \\right )} \\left(\\frac{d}{d t} \\operatorname{q_{4}}{\\left (t \\right )}\\right)^{2} + Izz \\sin{\\left (2.0 \\operatorname{q_{6}}{\\left (t \\right )} \\right )} \\frac{d}{d t} \\operatorname{q_{5}}{\\left (t \\right )} \\frac{d}{d t} \\operatorname{q_{6}}{\\left (t \\right )} + Izz \\cos{\\left (\\operatorname{q_{5}}{\\left (t \\right )} \\right )} \\cos{\\left (2.0 \\operatorname{q_{6}}{\\left (t \\right )} \\right )} \\frac{d}{d t} \\operatorname{q_{4}}{\\left (t \\right )} \\frac{d}{d t} \\operatorname{q_{6}}{\\left (t \\right )} - \\operatorname{Q_{5}}{\\left (t \\right )}\\right) \\sin{\\left (\\operatorname{q_{6}}{\\left (t \\right )} \\right )} \\cos{\\left (\\operatorname{q_{5}}{\\left (t \\right )} \\right )} \\cos{\\left (\\operatorname{q_{6}}{\\left (t \\right )} \\right )}$$"
      ],
      "text/plain": [
       "                ⎛                                  2                          \n",
       "                ⎜                       ⎛d        ⎞                   d       \n",
       "2.0⋅(Iyy + Izz)⋅⎜0.5⋅Ixx⋅sin(2.0⋅q₅(t))⋅⎜──(q₄(t))⎟  + Ixx⋅cos(q₅(t))⋅──(q₄(t)\n",
       "                ⎝                       ⎝dt       ⎠                   dt      \n",
       "\n",
       "                                                               2              \n",
       "  d                                        2        ⎛d        ⎞               \n",
       ")⋅──(q₆(t)) + Iyy⋅sin(q₅(t))⋅cos(q₅(t))⋅cos (q₆(t))⋅⎜──(q₄(t))⎟  - Iyy⋅sin(2.0\n",
       "  dt                                                ⎝dt       ⎠               \n",
       "\n",
       "                                                                              \n",
       "        d         d                                         d         d       \n",
       "⋅q₆(t))⋅──(q₅(t))⋅──(q₆(t)) + Iyy⋅cos(q₅(t))⋅cos(2.0⋅q₆(t))⋅──(q₄(t))⋅──(q₆(t)\n",
       "        dt        dt                                        dt        dt      \n",
       "\n",
       "                                                     2                        \n",
       "                                 2        ⎛d        ⎞                       d \n",
       ") - Izz⋅sin(q₅(t))⋅cos(q₅(t))⋅cos (q₆(t))⋅⎜──(q₄(t))⎟  + Izz⋅sin(2.0⋅q₆(t))⋅──\n",
       "                                          ⎝dt       ⎠                       dt\n",
       "\n",
       "                                                                             ⎞\n",
       "        d                                         d         d                ⎟\n",
       "(q₅(t))⋅──(q₆(t)) + Izz⋅cos(q₅(t))⋅cos(2.0⋅q₆(t))⋅──(q₄(t))⋅──(q₆(t)) - Q₅(t)⎟\n",
       "        dt                                        dt        dt               ⎠\n",
       "\n",
       "                                 \n",
       "                                 \n",
       "⋅sin(q₆(t))⋅cos(q₅(t))⋅cos(q₆(t))\n",
       "                                 "
      ]
     },
     "execution_count": 109,
     "metadata": {},
     "output_type": "execute_result"
    }
   ],
   "source": [
    "B = (sympify(A[2], evaluate=False)).args\n",
    "B[2]"
   ]
  },
  {
   "cell_type": "code",
   "execution_count": null,
   "metadata": {},
   "outputs": [],
   "source": []
  },
  {
   "cell_type": "markdown",
   "metadata": {},
   "source": [
    "$\n",
    "\\frac{d\\dot{q_{4}}}{dt} = \\frac{1.0 \\left(\\left(0.25 Iyy + 0.25 Izz\\right) \\left(- 1.0 Ixx \\operatorname{sin}\\left(2.0 q_{5}\\right) \\dot{q}_{4}^{2} + 2.0 Ixx \\operatorname{cos}\\left(q_{5}\\right) \\dot{q}_{4} \\dot{q}_{6} - 0.5 Iyy \\operatorname{sin}\\left(2.0 q_{5}\\right) \\operatorname{cos}\\left(2.0 q_{6}\\right) \\dot{q}_{4}^{2} + 0.5 Iyy \\operatorname{sin}\\left(2.0 q_{5}\\right) \\dot{q}_{4}^{2} - 2.0 Iyy \\operatorname{sin}\\left(2.0 q_{6}\\right) \\dot{q}_{5} \\dot{q}_{6} + 2.0 Iyy \\operatorname{cos}\\left(q_{5}\\right) \\operatorname{cos}\\left(2.0 q_{6}\\right) \\dot{q}_{4} \\dot{q}_{6} + 0.5 Izz \\operatorname{sin}\\left(2.0 q_{5}\\right) \\operatorname{cos}\\left(2.0 q_{6}\\right) \\dot{q}_{4}^{2} + 0.5 Izz \\operatorname{sin}\\left(2.0 q_{5}\\right) \\dot{q}_{4}^{2} + 2.0 Izz \\operatorname{sin}\\left(2.0 q_{6}\\right) \\dot{q}_{5} \\dot{q}_{6} + 2.0 Izz \\operatorname{cos}\\left(q_{5}\\right) \\operatorname{cos}\\left(2.0 q_{6}\\right) \\dot{q}_{4} \\dot{q}_{6} - 2.0 Q_{5}\\right) \\operatorname{sin}\\left(2.0 q_{6}\\right) \\operatorname{cos}\\left(q_{5}\\right) + 0.5 \\left(Iyy \\operatorname{cos}^{2}\\left(q_{6}\\right) - Izz \\operatorname{cos}^{2}\\left(q_{6}\\right) + Izz\\right) \\left(2.0 Ixx \\operatorname{cos}\\left(q_{5}\\right) \\dot{q}_{4} \\dot{q}_{5} + 2.0 Iyy \\operatorname{sin}\\left(q_{6}\\right) \\operatorname{cos}^{2}\\left(q_{5}\\right) \\operatorname{cos}\\left(q_{6}\\right) \\dot{q}_{4}^{2} - Iyy \\operatorname{sin}\\left(2.0 q_{6}\\right) \\dot{q}_{5}^{2} + Iyy \\operatorname{cos}\\left(q_{5} - 2.0 q_{6}\\right) \\dot{q}_{4} \\dot{q}_{5} + Iyy \\operatorname{cos}\\left(q_{5} + 2.0 q_{6}\\right) \\dot{q}_{4} \\dot{q}_{5} - 2.0 Izz \\operatorname{sin}\\left(q_{6}\\right) \\operatorname{cos}^{2}\\left(q_{5}\\right) \\operatorname{cos}\\left(q_{6}\\right) \\dot{q}_{4}^{2} + Izz \\operatorname{sin}\\left(2.0 q_{6}\\right) \\dot{q}_{5}^{2} + Izz \\operatorname{cos}\\left(q_{5} - 2.0 q_{6}\\right) \\dot{q}_{4} \\dot{q}_{5} + Izz \\operatorname{cos}\\left(q_{5} + 2.0 q_{6}\\right) \\dot{q}_{4} \\dot{q}_{5} + 2.0 Q_{6}\\right) \\operatorname{sin}\\left(q_{5}\\right) - 0.25 \\left(Iyy \\operatorname{cos}^{2}\\left(q_{6}\\right) - Izz \\operatorname{cos}^{2}\\left(q_{6}\\right) + Izz\\right) \\left(4.0 Ixx \\operatorname{sin}\\left(2.0 q_{5}\\right) \\dot{q}_{4} \\dot{q}_{5} - 4.0 Ixx \\operatorname{cos}\\left(q_{5}\\right) \\dot{q}_{5} \\dot{q}_{6} - 2.0 Iyy \\operatorname{sin}\\left(q_{5}\\right) \\operatorname{sin}\\left(2.0 q_{6}\\right) \\dot{q}_{5}^{2} + 2.0 Iyy \\operatorname{sin}\\left(2.0 q_{5}\\right) \\operatorname{cos}\\left(2.0 q_{6}\\right) \\dot{q}_{4} \\dot{q}_{5} - 2.0 Iyy \\operatorname{sin}\\left(2.0 q_{5}\\right) \\dot{q}_{4} \\dot{q}_{5} + 2.0 Iyy \\operatorname{sin}\\left(2.0 q_{6}\\right) \\operatorname{cos}\\left(2.0 q_{5}\\right) \\dot{q}_{4} \\dot{q}_{6} + 2.0 Iyy \\operatorname{sin}\\left(2.0 q_{6}\\right) \\dot{q}_{4} \\dot{q}_{6} + 4.0 Iyy \\operatorname{cos}\\left(q_{5}\\right) \\operatorname{cos}\\left(2.0 q_{6}\\right) \\dot{q}_{5} \\dot{q}_{6} - 2.0 Izz \\operatorname{sin}\\left(q_{5}\\right) \\operatorname{sin}\\left(2.0 q_{6}\\right) \\dot{q}_{5}^{2} - 2.0 Izz \\operatorname{sin}\\left(2.0 q_{5}\\right) \\operatorname{cos}\\left(2.0 q_{6}\\right) \\dot{q}_{4} \\dot{q}_{5} - 2.0 Izz \\operatorname{sin}\\left(2.0 q_{5}\\right) \\dot{q}_{4} \\dot{q}_{5} - 2.0 Izz \\operatorname{sin}\\left(2.0 q_{6}\\right) \\operatorname{cos}\\left(2.0 q_{5}\\right) \\dot{q}_{4} \\dot{q}_{6} - 2.0 Izz \\operatorname{sin}\\left(2.0 q_{6}\\right) \\dot{q}_{4} \\dot{q}_{6} + 4.0 Izz \\operatorname{cos}\\left(q_{5}\\right) \\operatorname{cos}\\left(2.0 q_{6}\\right) \\dot{q}_{5} \\dot{q}_{6} - 4.0 Q_{4}\\right)\\right)}{Iyy Izz \\operatorname{cos}^{2}\\left(q_{5}\\right) \\operatorname{cos}^{2}\\left(2 q_{6}\\right)}\n",
    "$"
   ]
  },
  {
   "cell_type": "code",
   "execution_count": null,
   "metadata": {},
   "outputs": [],
   "source": []
  }
 ],
 "metadata": {
  "kernelspec": {
   "display_name": "Python 3",
   "language": "python",
   "name": "python3"
  },
  "language_info": {
   "codemirror_mode": {
    "name": "ipython",
    "version": 3
   },
   "file_extension": ".py",
   "mimetype": "text/x-python",
   "name": "python",
   "nbconvert_exporter": "python",
   "pygments_lexer": "ipython3",
   "version": "3.7.0"
  }
 },
 "nbformat": 4,
 "nbformat_minor": 2
}
